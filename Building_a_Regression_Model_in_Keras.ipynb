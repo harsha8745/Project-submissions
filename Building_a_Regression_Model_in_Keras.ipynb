{
  "nbformat": 4,
  "nbformat_minor": 0,
  "metadata": {
    "colab": {
      "name": "Building a Regression Model in Keras.ipynb",
      "provenance": [],
      "collapsed_sections": [],
      "authorship_tag": "ABX9TyO5/Tg+j33UpwuNdbkbCjX8"
    },
    "kernelspec": {
      "name": "python3",
      "display_name": "Python 3"
    }
  },
  "cells": [
    {
      "cell_type": "markdown",
      "metadata": {
        "id": "klg2-CZuXj2I"
      },
      "source": [
        "#Part A: Build a baseline model"
      ]
    },
    {
      "cell_type": "code",
      "metadata": {
        "id": "uQciPOrmXFUH"
      },
      "source": [
        "import pandas as pd\r\n",
        "import numpy as np"
      ],
      "execution_count": 1,
      "outputs": []
    },
    {
      "cell_type": "code",
      "metadata": {
        "id": "qVzYfF4tX9Ds"
      },
      "source": [
        "!wget -q https://cocl.us/concrete_data"
      ],
      "execution_count": 2,
      "outputs": []
    },
    {
      "cell_type": "code",
      "metadata": {
        "colab": {
          "base_uri": "https://localhost:8080/",
          "height": 194
        },
        "id": "4R-4DYCxYA_i",
        "outputId": "c7bb27dd-5881-45ba-a84d-459e9fa3dd72"
      },
      "source": [
        "df = pd.read_csv(\"concrete_data\")\r\n",
        "df.head()"
      ],
      "execution_count": 4,
      "outputs": [
        {
          "output_type": "execute_result",
          "data": {
            "text/html": [
              "<div>\n",
              "<style scoped>\n",
              "    .dataframe tbody tr th:only-of-type {\n",
              "        vertical-align: middle;\n",
              "    }\n",
              "\n",
              "    .dataframe tbody tr th {\n",
              "        vertical-align: top;\n",
              "    }\n",
              "\n",
              "    .dataframe thead th {\n",
              "        text-align: right;\n",
              "    }\n",
              "</style>\n",
              "<table border=\"1\" class=\"dataframe\">\n",
              "  <thead>\n",
              "    <tr style=\"text-align: right;\">\n",
              "      <th></th>\n",
              "      <th>Cement</th>\n",
              "      <th>Blast Furnace Slag</th>\n",
              "      <th>Fly Ash</th>\n",
              "      <th>Water</th>\n",
              "      <th>Superplasticizer</th>\n",
              "      <th>Coarse Aggregate</th>\n",
              "      <th>Fine Aggregate</th>\n",
              "      <th>Age</th>\n",
              "      <th>Strength</th>\n",
              "    </tr>\n",
              "  </thead>\n",
              "  <tbody>\n",
              "    <tr>\n",
              "      <th>0</th>\n",
              "      <td>540.0</td>\n",
              "      <td>0.0</td>\n",
              "      <td>0.0</td>\n",
              "      <td>162.0</td>\n",
              "      <td>2.5</td>\n",
              "      <td>1040.0</td>\n",
              "      <td>676.0</td>\n",
              "      <td>28</td>\n",
              "      <td>79.99</td>\n",
              "    </tr>\n",
              "    <tr>\n",
              "      <th>1</th>\n",
              "      <td>540.0</td>\n",
              "      <td>0.0</td>\n",
              "      <td>0.0</td>\n",
              "      <td>162.0</td>\n",
              "      <td>2.5</td>\n",
              "      <td>1055.0</td>\n",
              "      <td>676.0</td>\n",
              "      <td>28</td>\n",
              "      <td>61.89</td>\n",
              "    </tr>\n",
              "    <tr>\n",
              "      <th>2</th>\n",
              "      <td>332.5</td>\n",
              "      <td>142.5</td>\n",
              "      <td>0.0</td>\n",
              "      <td>228.0</td>\n",
              "      <td>0.0</td>\n",
              "      <td>932.0</td>\n",
              "      <td>594.0</td>\n",
              "      <td>270</td>\n",
              "      <td>40.27</td>\n",
              "    </tr>\n",
              "    <tr>\n",
              "      <th>3</th>\n",
              "      <td>332.5</td>\n",
              "      <td>142.5</td>\n",
              "      <td>0.0</td>\n",
              "      <td>228.0</td>\n",
              "      <td>0.0</td>\n",
              "      <td>932.0</td>\n",
              "      <td>594.0</td>\n",
              "      <td>365</td>\n",
              "      <td>41.05</td>\n",
              "    </tr>\n",
              "    <tr>\n",
              "      <th>4</th>\n",
              "      <td>198.6</td>\n",
              "      <td>132.4</td>\n",
              "      <td>0.0</td>\n",
              "      <td>192.0</td>\n",
              "      <td>0.0</td>\n",
              "      <td>978.4</td>\n",
              "      <td>825.5</td>\n",
              "      <td>360</td>\n",
              "      <td>44.30</td>\n",
              "    </tr>\n",
              "  </tbody>\n",
              "</table>\n",
              "</div>"
            ],
            "text/plain": [
              "   Cement  Blast Furnace Slag  Fly Ash  ...  Fine Aggregate  Age  Strength\n",
              "0   540.0                 0.0      0.0  ...           676.0   28     79.99\n",
              "1   540.0                 0.0      0.0  ...           676.0   28     61.89\n",
              "2   332.5               142.5      0.0  ...           594.0  270     40.27\n",
              "3   332.5               142.5      0.0  ...           594.0  365     41.05\n",
              "4   198.6               132.4      0.0  ...           825.5  360     44.30\n",
              "\n",
              "[5 rows x 9 columns]"
            ]
          },
          "metadata": {
            "tags": []
          },
          "execution_count": 4
        }
      ]
    },
    {
      "cell_type": "markdown",
      "metadata": {
        "id": "hbbE-b9vYg5T"
      },
      "source": [
        "#Data wrangling and EDA"
      ]
    },
    {
      "cell_type": "code",
      "metadata": {
        "colab": {
          "base_uri": "https://localhost:8080/"
        },
        "id": "VwvfIZa0Ygob",
        "outputId": "8dbdbb54-6f0f-47c1-b3dd-1cc26b10d087"
      },
      "source": [
        "df.info()"
      ],
      "execution_count": 5,
      "outputs": [
        {
          "output_type": "stream",
          "text": [
            "<class 'pandas.core.frame.DataFrame'>\n",
            "RangeIndex: 1030 entries, 0 to 1029\n",
            "Data columns (total 9 columns):\n",
            " #   Column              Non-Null Count  Dtype  \n",
            "---  ------              --------------  -----  \n",
            " 0   Cement              1030 non-null   float64\n",
            " 1   Blast Furnace Slag  1030 non-null   float64\n",
            " 2   Fly Ash             1030 non-null   float64\n",
            " 3   Water               1030 non-null   float64\n",
            " 4   Superplasticizer    1030 non-null   float64\n",
            " 5   Coarse Aggregate    1030 non-null   float64\n",
            " 6   Fine Aggregate      1030 non-null   float64\n",
            " 7   Age                 1030 non-null   int64  \n",
            " 8   Strength            1030 non-null   float64\n",
            "dtypes: float64(8), int64(1)\n",
            "memory usage: 72.5 KB\n"
          ],
          "name": "stdout"
        }
      ]
    },
    {
      "cell_type": "code",
      "metadata": {
        "colab": {
          "base_uri": "https://localhost:8080/"
        },
        "id": "4PF2014_YS0J",
        "outputId": "12a0d3c3-ad15-4703-deb5-082aacd9857d"
      },
      "source": [
        "#checking for nulls\r\n",
        "df.isnull().sum()"
      ],
      "execution_count": 6,
      "outputs": [
        {
          "output_type": "execute_result",
          "data": {
            "text/plain": [
              "Cement                0\n",
              "Blast Furnace Slag    0\n",
              "Fly Ash               0\n",
              "Water                 0\n",
              "Superplasticizer      0\n",
              "Coarse Aggregate      0\n",
              "Fine Aggregate        0\n",
              "Age                   0\n",
              "Strength              0\n",
              "dtype: int64"
            ]
          },
          "metadata": {
            "tags": []
          },
          "execution_count": 6
        }
      ]
    },
    {
      "cell_type": "code",
      "metadata": {
        "colab": {
          "base_uri": "https://localhost:8080/",
          "height": 282
        },
        "id": "Zb7yQJKkYqcL",
        "outputId": "2d2a307e-46a3-43d1-9a43-000eb8502e2c"
      },
      "source": [
        "#descriptive statistics\r\n",
        "df.describe()"
      ],
      "execution_count": 7,
      "outputs": [
        {
          "output_type": "execute_result",
          "data": {
            "text/html": [
              "<div>\n",
              "<style scoped>\n",
              "    .dataframe tbody tr th:only-of-type {\n",
              "        vertical-align: middle;\n",
              "    }\n",
              "\n",
              "    .dataframe tbody tr th {\n",
              "        vertical-align: top;\n",
              "    }\n",
              "\n",
              "    .dataframe thead th {\n",
              "        text-align: right;\n",
              "    }\n",
              "</style>\n",
              "<table border=\"1\" class=\"dataframe\">\n",
              "  <thead>\n",
              "    <tr style=\"text-align: right;\">\n",
              "      <th></th>\n",
              "      <th>Cement</th>\n",
              "      <th>Blast Furnace Slag</th>\n",
              "      <th>Fly Ash</th>\n",
              "      <th>Water</th>\n",
              "      <th>Superplasticizer</th>\n",
              "      <th>Coarse Aggregate</th>\n",
              "      <th>Fine Aggregate</th>\n",
              "      <th>Age</th>\n",
              "      <th>Strength</th>\n",
              "    </tr>\n",
              "  </thead>\n",
              "  <tbody>\n",
              "    <tr>\n",
              "      <th>count</th>\n",
              "      <td>1030.000000</td>\n",
              "      <td>1030.000000</td>\n",
              "      <td>1030.000000</td>\n",
              "      <td>1030.000000</td>\n",
              "      <td>1030.000000</td>\n",
              "      <td>1030.000000</td>\n",
              "      <td>1030.000000</td>\n",
              "      <td>1030.000000</td>\n",
              "      <td>1030.000000</td>\n",
              "    </tr>\n",
              "    <tr>\n",
              "      <th>mean</th>\n",
              "      <td>281.167864</td>\n",
              "      <td>73.895825</td>\n",
              "      <td>54.188350</td>\n",
              "      <td>181.567282</td>\n",
              "      <td>6.204660</td>\n",
              "      <td>972.918932</td>\n",
              "      <td>773.580485</td>\n",
              "      <td>45.662136</td>\n",
              "      <td>35.817961</td>\n",
              "    </tr>\n",
              "    <tr>\n",
              "      <th>std</th>\n",
              "      <td>104.506364</td>\n",
              "      <td>86.279342</td>\n",
              "      <td>63.997004</td>\n",
              "      <td>21.354219</td>\n",
              "      <td>5.973841</td>\n",
              "      <td>77.753954</td>\n",
              "      <td>80.175980</td>\n",
              "      <td>63.169912</td>\n",
              "      <td>16.705742</td>\n",
              "    </tr>\n",
              "    <tr>\n",
              "      <th>min</th>\n",
              "      <td>102.000000</td>\n",
              "      <td>0.000000</td>\n",
              "      <td>0.000000</td>\n",
              "      <td>121.800000</td>\n",
              "      <td>0.000000</td>\n",
              "      <td>801.000000</td>\n",
              "      <td>594.000000</td>\n",
              "      <td>1.000000</td>\n",
              "      <td>2.330000</td>\n",
              "    </tr>\n",
              "    <tr>\n",
              "      <th>25%</th>\n",
              "      <td>192.375000</td>\n",
              "      <td>0.000000</td>\n",
              "      <td>0.000000</td>\n",
              "      <td>164.900000</td>\n",
              "      <td>0.000000</td>\n",
              "      <td>932.000000</td>\n",
              "      <td>730.950000</td>\n",
              "      <td>7.000000</td>\n",
              "      <td>23.710000</td>\n",
              "    </tr>\n",
              "    <tr>\n",
              "      <th>50%</th>\n",
              "      <td>272.900000</td>\n",
              "      <td>22.000000</td>\n",
              "      <td>0.000000</td>\n",
              "      <td>185.000000</td>\n",
              "      <td>6.400000</td>\n",
              "      <td>968.000000</td>\n",
              "      <td>779.500000</td>\n",
              "      <td>28.000000</td>\n",
              "      <td>34.445000</td>\n",
              "    </tr>\n",
              "    <tr>\n",
              "      <th>75%</th>\n",
              "      <td>350.000000</td>\n",
              "      <td>142.950000</td>\n",
              "      <td>118.300000</td>\n",
              "      <td>192.000000</td>\n",
              "      <td>10.200000</td>\n",
              "      <td>1029.400000</td>\n",
              "      <td>824.000000</td>\n",
              "      <td>56.000000</td>\n",
              "      <td>46.135000</td>\n",
              "    </tr>\n",
              "    <tr>\n",
              "      <th>max</th>\n",
              "      <td>540.000000</td>\n",
              "      <td>359.400000</td>\n",
              "      <td>200.100000</td>\n",
              "      <td>247.000000</td>\n",
              "      <td>32.200000</td>\n",
              "      <td>1145.000000</td>\n",
              "      <td>992.600000</td>\n",
              "      <td>365.000000</td>\n",
              "      <td>82.600000</td>\n",
              "    </tr>\n",
              "  </tbody>\n",
              "</table>\n",
              "</div>"
            ],
            "text/plain": [
              "            Cement  Blast Furnace Slag  ...          Age     Strength\n",
              "count  1030.000000         1030.000000  ...  1030.000000  1030.000000\n",
              "mean    281.167864           73.895825  ...    45.662136    35.817961\n",
              "std     104.506364           86.279342  ...    63.169912    16.705742\n",
              "min     102.000000            0.000000  ...     1.000000     2.330000\n",
              "25%     192.375000            0.000000  ...     7.000000    23.710000\n",
              "50%     272.900000           22.000000  ...    28.000000    34.445000\n",
              "75%     350.000000          142.950000  ...    56.000000    46.135000\n",
              "max     540.000000          359.400000  ...   365.000000    82.600000\n",
              "\n",
              "[8 rows x 9 columns]"
            ]
          },
          "metadata": {
            "tags": []
          },
          "execution_count": 7
        }
      ]
    },
    {
      "cell_type": "markdown",
      "metadata": {
        "id": "-En7NvM-acjX"
      },
      "source": [
        "##Feature selection"
      ]
    },
    {
      "cell_type": "code",
      "metadata": {
        "colab": {
          "base_uri": "https://localhost:8080/",
          "height": 194
        },
        "id": "7sA6tf4OaaYi",
        "outputId": "6aebb7a4-3dda-4ffb-91ae-2b567136b382"
      },
      "source": [
        "x = df.loc[:,df.columns!=\"Strength\"]\r\n",
        "x.head()"
      ],
      "execution_count": 8,
      "outputs": [
        {
          "output_type": "execute_result",
          "data": {
            "text/html": [
              "<div>\n",
              "<style scoped>\n",
              "    .dataframe tbody tr th:only-of-type {\n",
              "        vertical-align: middle;\n",
              "    }\n",
              "\n",
              "    .dataframe tbody tr th {\n",
              "        vertical-align: top;\n",
              "    }\n",
              "\n",
              "    .dataframe thead th {\n",
              "        text-align: right;\n",
              "    }\n",
              "</style>\n",
              "<table border=\"1\" class=\"dataframe\">\n",
              "  <thead>\n",
              "    <tr style=\"text-align: right;\">\n",
              "      <th></th>\n",
              "      <th>Cement</th>\n",
              "      <th>Blast Furnace Slag</th>\n",
              "      <th>Fly Ash</th>\n",
              "      <th>Water</th>\n",
              "      <th>Superplasticizer</th>\n",
              "      <th>Coarse Aggregate</th>\n",
              "      <th>Fine Aggregate</th>\n",
              "      <th>Age</th>\n",
              "    </tr>\n",
              "  </thead>\n",
              "  <tbody>\n",
              "    <tr>\n",
              "      <th>0</th>\n",
              "      <td>540.0</td>\n",
              "      <td>0.0</td>\n",
              "      <td>0.0</td>\n",
              "      <td>162.0</td>\n",
              "      <td>2.5</td>\n",
              "      <td>1040.0</td>\n",
              "      <td>676.0</td>\n",
              "      <td>28</td>\n",
              "    </tr>\n",
              "    <tr>\n",
              "      <th>1</th>\n",
              "      <td>540.0</td>\n",
              "      <td>0.0</td>\n",
              "      <td>0.0</td>\n",
              "      <td>162.0</td>\n",
              "      <td>2.5</td>\n",
              "      <td>1055.0</td>\n",
              "      <td>676.0</td>\n",
              "      <td>28</td>\n",
              "    </tr>\n",
              "    <tr>\n",
              "      <th>2</th>\n",
              "      <td>332.5</td>\n",
              "      <td>142.5</td>\n",
              "      <td>0.0</td>\n",
              "      <td>228.0</td>\n",
              "      <td>0.0</td>\n",
              "      <td>932.0</td>\n",
              "      <td>594.0</td>\n",
              "      <td>270</td>\n",
              "    </tr>\n",
              "    <tr>\n",
              "      <th>3</th>\n",
              "      <td>332.5</td>\n",
              "      <td>142.5</td>\n",
              "      <td>0.0</td>\n",
              "      <td>228.0</td>\n",
              "      <td>0.0</td>\n",
              "      <td>932.0</td>\n",
              "      <td>594.0</td>\n",
              "      <td>365</td>\n",
              "    </tr>\n",
              "    <tr>\n",
              "      <th>4</th>\n",
              "      <td>198.6</td>\n",
              "      <td>132.4</td>\n",
              "      <td>0.0</td>\n",
              "      <td>192.0</td>\n",
              "      <td>0.0</td>\n",
              "      <td>978.4</td>\n",
              "      <td>825.5</td>\n",
              "      <td>360</td>\n",
              "    </tr>\n",
              "  </tbody>\n",
              "</table>\n",
              "</div>"
            ],
            "text/plain": [
              "   Cement  Blast Furnace Slag  Fly Ash  ...  Coarse Aggregate  Fine Aggregate  Age\n",
              "0   540.0                 0.0      0.0  ...            1040.0           676.0   28\n",
              "1   540.0                 0.0      0.0  ...            1055.0           676.0   28\n",
              "2   332.5               142.5      0.0  ...             932.0           594.0  270\n",
              "3   332.5               142.5      0.0  ...             932.0           594.0  365\n",
              "4   198.6               132.4      0.0  ...             978.4           825.5  360\n",
              "\n",
              "[5 rows x 8 columns]"
            ]
          },
          "metadata": {
            "tags": []
          },
          "execution_count": 8
        }
      ]
    },
    {
      "cell_type": "code",
      "metadata": {
        "colab": {
          "base_uri": "https://localhost:8080/"
        },
        "id": "XH3ZZ7D3bFLF",
        "outputId": "3d6e28e7-87cb-4b3f-bc77-c86f64286b52"
      },
      "source": [
        "#target variable\r\n",
        "y =df[\"Strength\"]\r\n",
        "y.head()"
      ],
      "execution_count": 9,
      "outputs": [
        {
          "output_type": "execute_result",
          "data": {
            "text/plain": [
              "0    79.99\n",
              "1    61.89\n",
              "2    40.27\n",
              "3    41.05\n",
              "4    44.30\n",
              "Name: Strength, dtype: float64"
            ]
          },
          "metadata": {
            "tags": []
          },
          "execution_count": 9
        }
      ]
    },
    {
      "cell_type": "code",
      "metadata": {
        "colab": {
          "base_uri": "https://localhost:8080/"
        },
        "id": "7bju-0Ukl4Xi",
        "outputId": "4e9ba0ab-819b-4a8d-e37f-3a966d12d7b3"
      },
      "source": [
        "n_cols =x.shape[1]\r\n",
        "n_cols"
      ],
      "execution_count": 44,
      "outputs": [
        {
          "output_type": "execute_result",
          "data": {
            "text/plain": [
              "8"
            ]
          },
          "metadata": {
            "tags": []
          },
          "execution_count": 44
        }
      ]
    },
    {
      "cell_type": "markdown",
      "metadata": {
        "id": "-jeSndzYbpb-"
      },
      "source": [
        "#Model building"
      ]
    },
    {
      "cell_type": "markdown",
      "metadata": {
        "id": "KHUZUpHlcXCg"
      },
      "source": [
        "###Import keras, required libraries from keras "
      ]
    },
    {
      "cell_type": "code",
      "metadata": {
        "id": "RiRuVl0ebma6"
      },
      "source": [
        "import keras"
      ],
      "execution_count": 14,
      "outputs": []
    },
    {
      "cell_type": "code",
      "metadata": {
        "id": "oe6dWofybwVj"
      },
      "source": [
        "from keras.models import Sequential\r\n",
        "from keras.layers import Dense"
      ],
      "execution_count": 15,
      "outputs": []
    },
    {
      "cell_type": "code",
      "metadata": {
        "id": "TcO4RtVecVAT"
      },
      "source": [
        "#define regression model\r\n",
        "def regression_model():\r\n",
        "  model = Sequential()\r\n",
        "\r\n",
        "  model.add(Dense(10,activation=\"relu\",input_shape=(n_cols,)))\r\n",
        "  model.add(Dense(1))\r\n",
        "\r\n",
        "  #compile model\r\n",
        "  model.compile(optimizer=\"adam\",loss=\"mean_squared_error\")\r\n",
        "  return model"
      ],
      "execution_count": 36,
      "outputs": []
    },
    {
      "cell_type": "code",
      "metadata": {
        "colab": {
          "base_uri": "https://localhost:8080/"
        },
        "id": "Z0F_i1bGeKEt",
        "outputId": "0bdee0f6-dd3f-4a9d-f78a-67d405b0bfda"
      },
      "source": [
        "from sklearn.metrics import mean_squared_error as MSE\r\n",
        "\r\n",
        "model = regression_model()\r\n",
        "mse = []  #empty mean squared error\r\n",
        "\r\n",
        "for i in range(0,50):\r\n",
        "  xtr,xte,ytr,yte = tts(x,y,test_size=0.3)\r\n",
        "  model.fit(xtr,ytr,epochs=50,verbose=0)\r\n",
        "  yhat = model.predict(xte)\r\n",
        "  error = MSE(yte,yhat)\r\n",
        "  mse.append(error)\r\n",
        "\r\n",
        "mse"
      ],
      "execution_count": 43,
      "outputs": [
        {
          "output_type": "execute_result",
          "data": {
            "text/plain": [
              "[208.78719075219684,\n",
              " 110.21765980852055,\n",
              " 75.44642882028447,\n",
              " 57.179537742292446,\n",
              " 56.47588452747049,\n",
              " 56.30609398773349,\n",
              " 46.64302230558537,\n",
              " 44.6077556154711,\n",
              " 52.70194513936033,\n",
              " 58.34934149306482,\n",
              " 56.212630614337705,\n",
              " 56.49682386971899,\n",
              " 50.736910164330446,\n",
              " 47.067397453212266,\n",
              " 47.31957236864499,\n",
              " 52.51699821467591,\n",
              " 51.634915422363555,\n",
              " 51.2249242656657,\n",
              " 50.8234092497561,\n",
              " 57.833287754181,\n",
              " 50.94099504406682,\n",
              " 51.988153800656896,\n",
              " 46.15085897921341,\n",
              " 51.28483948004605,\n",
              " 46.604172953359225,\n",
              " 47.51488430830116,\n",
              " 50.601613160477235,\n",
              " 49.79918686274293,\n",
              " 49.82773759271403,\n",
              " 57.93126720184942,\n",
              " 49.44300303841611,\n",
              " 55.06164998385387,\n",
              " 49.40068809302663,\n",
              " 63.59704391510421,\n",
              " 47.55153618653243,\n",
              " 48.058632745777,\n",
              " 49.23373680839788,\n",
              " 49.27686962127714,\n",
              " 49.94821498457236,\n",
              " 48.995377631904,\n",
              " 46.97622441870908,\n",
              " 49.68288942900039,\n",
              " 55.33990990410741,\n",
              " 49.41690952812501,\n",
              " 58.686521942304935,\n",
              " 48.75190087889846,\n",
              " 42.968063550531575,\n",
              " 47.41789116646781,\n",
              " 45.20853947128713,\n",
              " 54.86924929032545]"
            ]
          },
          "metadata": {
            "tags": []
          },
          "execution_count": 43
        }
      ]
    },
    {
      "cell_type": "code",
      "metadata": {
        "colab": {
          "base_uri": "https://localhost:8080/"
        },
        "id": "1vtHuQdMg8Zm",
        "outputId": "3fa33937-ebc4-4ea0-e741-ab654460c0af"
      },
      "source": [
        "len(mse)"
      ],
      "execution_count": 47,
      "outputs": [
        {
          "output_type": "execute_result",
          "data": {
            "text/plain": [
              "50"
            ]
          },
          "metadata": {
            "tags": []
          },
          "execution_count": 47
        }
      ]
    },
    {
      "cell_type": "code",
      "metadata": {
        "colab": {
          "base_uri": "https://localhost:8080/"
        },
        "id": "K6juhF7PmDV9",
        "outputId": "3822b15a-45e8-4f81-f0ee-a0971fe2c87a"
      },
      "source": [
        "#mean of mean squared errors.\r\n",
        "print(\"mean off mse = \",np.mean(mse))"
      ],
      "execution_count": 48,
      "outputs": [
        {
          "output_type": "stream",
          "text": [
            "mean off mse =  56.02220583081826\n"
          ],
          "name": "stdout"
        }
      ]
    },
    {
      "cell_type": "code",
      "metadata": {
        "colab": {
          "base_uri": "https://localhost:8080/"
        },
        "id": "jGHfM6SBmpZV",
        "outputId": "ec83b2ec-1b71-4c0e-ac4e-f95bc8449b09"
      },
      "source": [
        "#standard deviation of the mean squared errors.\r\n",
        "print(\"standard deviation of the mse = \",np.std(mse))"
      ],
      "execution_count": 49,
      "outputs": [
        {
          "output_type": "stream",
          "text": [
            "standard deviation of the mse =  23.932111596695954\n"
          ],
          "name": "stdout"
        }
      ]
    },
    {
      "cell_type": "markdown",
      "metadata": {
        "id": "aL8v3vGQm7gc"
      },
      "source": [
        "#Part B: Normalize the data"
      ]
    },
    {
      "cell_type": "code",
      "metadata": {
        "id": "1TuoWwePoiWo"
      },
      "source": [
        "#define regression model\r\n",
        "def regression_model():\r\n",
        "  model = Sequential()\r\n",
        "\r\n",
        "  model.add(Dense(10,activation=\"relu\",input_shape=(n_cols,)))\r\n",
        "  model.add(Dense(1))\r\n",
        "\r\n",
        "  #compile model\r\n",
        "  model.compile(optimizer=\"adam\",loss=\"mean_squared_error\")\r\n",
        "  return model"
      ],
      "execution_count": 50,
      "outputs": []
    },
    {
      "cell_type": "markdown",
      "metadata": {
        "id": "xvaWJVRvnkzi"
      },
      "source": [
        ">We have to normalize data after splitting inorder to avoid data leak"
      ]
    },
    {
      "cell_type": "code",
      "metadata": {
        "colab": {
          "base_uri": "https://localhost:8080/"
        },
        "id": "hzCd8qogm7Ho",
        "outputId": "187da696-7e0e-40f7-efd2-340b2b301609"
      },
      "source": [
        "from sklearn.metrics import mean_squared_error as MSE\r\n",
        "\r\n",
        "model2 = regression_model()\r\n",
        "mse = []  #empty mean squared error\r\n",
        "\r\n",
        "for i in range(0,50):\r\n",
        "  xtr,xte,ytr,yte = tts(x,y,test_size=0.3)\r\n",
        "\r\n",
        "  #normalising train data and test data\r\n",
        "  xtr_norm = (xtr-xtr.mean())/xtr.std()\r\n",
        "  xte_norm = (xte-xte.mean())/xte.std()\r\n",
        "\r\n",
        "  model2.fit(xtr_norm,ytr,epochs=50,verbose=0)\r\n",
        "  yhat = model2.predict(xte_norm)\r\n",
        "  error = MSE(yte,yhat)\r\n",
        "  mse.append(error)\r\n",
        "\r\n",
        "mse"
      ],
      "execution_count": 51,
      "outputs": [
        {
          "output_type": "execute_result",
          "data": {
            "text/plain": [
              "[439.84951565829823,\n",
              " 167.2881323805372,\n",
              " 116.52696255574693,\n",
              " 83.54628245267295,\n",
              " 76.60663386104797,\n",
              " 61.757964141753845,\n",
              " 56.253277830378764,\n",
              " 56.64436415803959,\n",
              " 54.520585508517506,\n",
              " 45.980364352914584,\n",
              " 49.14363910108146,\n",
              " 56.37780249059305,\n",
              " 46.39790492551496,\n",
              " 39.16821135704735,\n",
              " 41.974978936292786,\n",
              " 36.369992648610655,\n",
              " 48.216746779332325,\n",
              " 41.29339616500098,\n",
              " 41.626030411861464,\n",
              " 44.85540131943483,\n",
              " 40.44387756597624,\n",
              " 37.30751674425388,\n",
              " 35.29120919049977,\n",
              " 42.85916715023342,\n",
              " 36.067394689528435,\n",
              " 32.37308262335113,\n",
              " 33.67781526401075,\n",
              " 41.80650290679822,\n",
              " 29.221944303021292,\n",
              " 37.43589107325537,\n",
              " 28.78095468224503,\n",
              " 33.88428831292457,\n",
              " 31.07476143130202,\n",
              " 39.16864360017536,\n",
              " 31.385877187884176,\n",
              " 30.19296198398804,\n",
              " 29.71447800150181,\n",
              " 37.6188543020724,\n",
              " 36.15119229833056,\n",
              " 35.38366137592524,\n",
              " 33.790906348089905,\n",
              " 30.742139197309513,\n",
              " 31.611501065877704,\n",
              " 51.31374322062494,\n",
              " 36.54802304981925,\n",
              " 36.34287063024487,\n",
              " 33.746110452582286,\n",
              " 33.93495880154476,\n",
              " 40.0080606198992,\n",
              " 37.82650036534979]"
            ]
          },
          "metadata": {
            "tags": []
          },
          "execution_count": 51
        }
      ]
    },
    {
      "cell_type": "code",
      "metadata": {
        "colab": {
          "base_uri": "https://localhost:8080/"
        },
        "id": "0vzCEkSppRFX",
        "outputId": "19333fd6-2866-46b3-84ac-820b80d775b7"
      },
      "source": [
        "#mean of mean squared errors.\r\n",
        "print(\"mean off mse = \",np.mean(mse))"
      ],
      "execution_count": 52,
      "outputs": [
        {
          "output_type": "stream",
          "text": [
            "mean off mse =  53.402061509465945\n"
          ],
          "name": "stdout"
        }
      ]
    },
    {
      "cell_type": "code",
      "metadata": {
        "colab": {
          "base_uri": "https://localhost:8080/"
        },
        "id": "x6B64Bp7pRFa",
        "outputId": "54504aaf-59e1-445a-b51a-061e4c587b97"
      },
      "source": [
        "#standard deviation of the mean squared errors.\r\n",
        "print(\"standard deviation of the mse = \",np.std(mse))"
      ],
      "execution_count": 53,
      "outputs": [
        {
          "output_type": "stream",
          "text": [
            "standard deviation of the mse =  59.87128600220436\n"
          ],
          "name": "stdout"
        }
      ]
    },
    {
      "cell_type": "markdown",
      "metadata": {
        "id": "hro04rWXpaCd"
      },
      "source": [
        "Hence the mean of mse in part B is less than that of part A"
      ]
    },
    {
      "cell_type": "markdown",
      "metadata": {
        "id": "HInrIIyqpnRq"
      },
      "source": [
        "#Part C: Increate the number of epochs"
      ]
    },
    {
      "cell_type": "code",
      "metadata": {
        "id": "WVgimlfypvkl"
      },
      "source": [
        "#define regression model\r\n",
        "def regression_model():\r\n",
        "  model = Sequential()\r\n",
        "\r\n",
        "  model.add(Dense(10,activation=\"relu\",input_shape=(n_cols,)))\r\n",
        "  model.add(Dense(1))\r\n",
        "\r\n",
        "  #compile model\r\n",
        "  model.compile(optimizer=\"adam\",loss=\"mean_squared_error\")\r\n",
        "  return model"
      ],
      "execution_count": 54,
      "outputs": []
    },
    {
      "cell_type": "markdown",
      "metadata": {
        "id": "sbELMosNpvku"
      },
      "source": [
        ">We have to normalize data after splitting inorder to avoid data leak"
      ]
    },
    {
      "cell_type": "code",
      "metadata": {
        "colab": {
          "base_uri": "https://localhost:8080/"
        },
        "id": "RCth-Fm9pvku",
        "outputId": "8ac69620-6253-4972-821d-793952b103ef"
      },
      "source": [
        "from sklearn.metrics import mean_squared_error as MSE\r\n",
        "\r\n",
        "model3 = regression_model()\r\n",
        "mse = []  #empty mean squared error\r\n",
        "\r\n",
        "for i in range(0,50):\r\n",
        "  xtr,xte,ytr,yte = tts(x,y,test_size=0.3)\r\n",
        "\r\n",
        "  #normalising train data and test data\r\n",
        "  xtr_norm = (xtr-xtr.mean())/xtr.std()\r\n",
        "  xte_norm = (xte-xte.mean())/xte.std()\r\n",
        "\r\n",
        "  model3.fit(xtr_norm,ytr,epochs=100,verbose=0)  #using 100 epochs for training.\r\n",
        "  yhat = model3.predict(xte_norm)\r\n",
        "  error = MSE(yte,yhat)\r\n",
        "  mse.append(error)\r\n",
        "\r\n",
        "mse"
      ],
      "execution_count": 55,
      "outputs": [
        {
          "output_type": "execute_result",
          "data": {
            "text/plain": [
              "[146.77663814658078,\n",
              " 93.36411251868697,\n",
              " 53.60856827550833,\n",
              " 54.160375988856494,\n",
              " 50.51217518092866,\n",
              " 42.72444408334272,\n",
              " 55.367063618185384,\n",
              " 52.721157784312624,\n",
              " 61.00882527227466,\n",
              " 40.69873948647878,\n",
              " 60.98705863141358,\n",
              " 58.68928764528565,\n",
              " 40.69438765651557,\n",
              " 48.67502476964363,\n",
              " 46.67612239466983,\n",
              " 41.95206048508998,\n",
              " 51.85971513273133,\n",
              " 48.0355478780723,\n",
              " 39.94775579386421,\n",
              " 49.31739933600077,\n",
              " 43.25639887985103,\n",
              " 43.50107340879277,\n",
              " 38.36548572429632,\n",
              " 48.24544365234896,\n",
              " 56.538003419331446,\n",
              " 38.00388134570902,\n",
              " 48.68388051667007,\n",
              " 43.580515103974314,\n",
              " 55.934734579020464,\n",
              " 45.840462613160085,\n",
              " 48.21558522152279,\n",
              " 57.90777854192687,\n",
              " 39.84193420736204,\n",
              " 36.00487964896491,\n",
              " 52.767859032660624,\n",
              " 45.70420930506415,\n",
              " 47.252787767547495,\n",
              " 48.21848723054029,\n",
              " 43.63666131184858,\n",
              " 39.89076369166843,\n",
              " 46.330738199374245,\n",
              " 42.68404208436195,\n",
              " 53.90925068991481,\n",
              " 42.09314420320541,\n",
              " 38.93413012029169,\n",
              " 44.34910885547187,\n",
              " 51.21606395428008,\n",
              " 47.93173970997465,\n",
              " 43.56194492410869,\n",
              " 46.28256957860196]"
            ]
          },
          "metadata": {
            "tags": []
          },
          "execution_count": 55
        }
      ]
    },
    {
      "cell_type": "code",
      "metadata": {
        "colab": {
          "base_uri": "https://localhost:8080/"
        },
        "id": "5SgIu2hJpvkv",
        "outputId": "93ad0577-6aa0-4ebc-9fac-723914d90c01"
      },
      "source": [
        "#mean of mean squared errors.\r\n",
        "print(\"mean off mse = \",np.mean(mse))"
      ],
      "execution_count": 57,
      "outputs": [
        {
          "output_type": "stream",
          "text": [
            "mean off mse =  50.32920035200576\n"
          ],
          "name": "stdout"
        }
      ]
    },
    {
      "cell_type": "code",
      "metadata": {
        "colab": {
          "base_uri": "https://localhost:8080/"
        },
        "id": "ZJo7WJkupvkw",
        "outputId": "1630de8c-d282-4729-e1d5-0c29cf3e6aaf"
      },
      "source": [
        "#standard deviation of the mean squared errors.\r\n",
        "print(\"standard deviation of the mse = \",np.std(mse))"
      ],
      "execution_count": 58,
      "outputs": [
        {
          "output_type": "stream",
          "text": [
            "standard deviation of the mse =  16.401320812546707\n"
          ],
          "name": "stdout"
        }
      ]
    },
    {
      "cell_type": "markdown",
      "metadata": {
        "id": "P-CBO5vqpvkw"
      },
      "source": [
        "Hence the mean of mse in part C is less than that of part B"
      ]
    },
    {
      "cell_type": "markdown",
      "metadata": {
        "id": "kM7YTlrrqQZn"
      },
      "source": [
        "#Part D: Increase the number of hidden layers "
      ]
    },
    {
      "cell_type": "code",
      "metadata": {
        "id": "JHi1kqQPqz0j"
      },
      "source": [
        "#define regression model\r\n",
        "def regression_model():\r\n",
        "  model = Sequential()\r\n",
        "\r\n",
        "  model.add(Dense(10,activation=\"relu\",input_shape=(n_cols,)))\r\n",
        "  model.add(Dense(10,activation=\"relu\"))\r\n",
        "  model.add(Dense(10,activation=\"relu\"))\r\n",
        "  model.add(Dense(1))\r\n",
        "\r\n",
        "  #compile model\r\n",
        "  model.compile(optimizer=\"adam\",loss=\"mean_squared_error\")\r\n",
        "  return model"
      ],
      "execution_count": 59,
      "outputs": []
    },
    {
      "cell_type": "markdown",
      "metadata": {
        "id": "DZkloCQpqz0v"
      },
      "source": [
        ">We have to normalize data after splitting inorder to avoid data leak"
      ]
    },
    {
      "cell_type": "code",
      "metadata": {
        "colab": {
          "base_uri": "https://localhost:8080/"
        },
        "id": "DDopkmfXqz0v",
        "outputId": "a8a5b02a-d7a6-47ee-ce52-be74e7984b72"
      },
      "source": [
        "from sklearn.metrics import mean_squared_error as MSE\r\n",
        "\r\n",
        "model4 = regression_model()\r\n",
        "mse = []  #empty mean squared error\r\n",
        "\r\n",
        "for i in range(0,50):\r\n",
        "  xtr,xte,ytr,yte = tts(x,y,test_size=0.3)\r\n",
        "\r\n",
        "  #normalising train data and test data\r\n",
        "  xtr_norm = (xtr-xtr.mean())/xtr.std()\r\n",
        "  xte_norm = (xte-xte.mean())/xte.std()\r\n",
        "\r\n",
        "  model4.fit(xtr_norm,ytr,epochs=50,verbose=0)\r\n",
        "  yhat = model4.predict(xte_norm)\r\n",
        "  error = MSE(yte,yhat)\r\n",
        "  mse.append(error)\r\n",
        "\r\n",
        "mse"
      ],
      "execution_count": 60,
      "outputs": [
        {
          "output_type": "execute_result",
          "data": {
            "text/plain": [
              "[167.13197699572015,\n",
              " 96.2181010256609,\n",
              " 68.9870875378906,\n",
              " 42.25445851966935,\n",
              " 43.125303642492945,\n",
              " 38.411045990772784,\n",
              " 43.05971860450492,\n",
              " 38.25554518064909,\n",
              " 41.131142892565244,\n",
              " 37.03294072599632,\n",
              " 36.32436007675568,\n",
              " 35.05650862971943,\n",
              " 32.80361489017227,\n",
              " 34.80491866617692,\n",
              " 32.394063226787836,\n",
              " 38.160598284182896,\n",
              " 35.21455992636211,\n",
              " 31.58021913726483,\n",
              " 31.401842463556147,\n",
              " 37.76445877871854,\n",
              " 32.85106630840039,\n",
              " 36.36219789288243,\n",
              " 50.485952043655494,\n",
              " 28.418990079617483,\n",
              " 32.543285587148425,\n",
              " 38.2472257795662,\n",
              " 34.67497844712749,\n",
              " 30.52514468383634,\n",
              " 65.3176453713059,\n",
              " 26.329527555873863,\n",
              " 26.83905808883635,\n",
              " 26.328902546426644,\n",
              " 28.20501476400095,\n",
              " 30.21827387605979,\n",
              " 27.850911193939886,\n",
              " 31.407096335029994,\n",
              " 28.94632415062459,\n",
              " 28.226737672174693,\n",
              " 30.480730782856906,\n",
              " 27.580197703325997,\n",
              " 36.23556069028866,\n",
              " 23.631209582008577,\n",
              " 27.007136601673878,\n",
              " 27.04049110129364,\n",
              " 27.326691068751657,\n",
              " 25.69224623322013,\n",
              " 23.726137453164625,\n",
              " 26.83396615744322,\n",
              " 29.003817274573755,\n",
              " 21.629016840631508]"
            ]
          },
          "metadata": {
            "tags": []
          },
          "execution_count": 60
        }
      ]
    },
    {
      "cell_type": "code",
      "metadata": {
        "colab": {
          "base_uri": "https://localhost:8080/"
        },
        "id": "-BIXSnl1qz0w",
        "outputId": "2a61f0fd-6361-41e9-cff5-6c79e828dca9"
      },
      "source": [
        "#mean of mean squared errors.\r\n",
        "print(\"mean off mse = \",np.mean(mse))"
      ],
      "execution_count": 61,
      "outputs": [
        {
          "output_type": "stream",
          "text": [
            "mean off mse =  37.82155998122717\n"
          ],
          "name": "stdout"
        }
      ]
    },
    {
      "cell_type": "code",
      "metadata": {
        "colab": {
          "base_uri": "https://localhost:8080/"
        },
        "id": "2rYEUTc1qz0w",
        "outputId": "ca72987c-6b89-40c9-c661-746f0e90bae8"
      },
      "source": [
        "#standard deviation of the mean squared errors.\r\n",
        "print(\"standard deviation of the mse = \",np.std(mse))"
      ],
      "execution_count": 62,
      "outputs": [
        {
          "output_type": "stream",
          "text": [
            "standard deviation of the mse =  22.285606184757278\n"
          ],
          "name": "stdout"
        }
      ]
    },
    {
      "cell_type": "markdown",
      "metadata": {
        "id": "gbG3QsJGqz0x"
      },
      "source": [
        "Hence the mean of mse in part D is less than that of part B"
      ]
    }
  ]
}